{
 "cells": [
  {
   "cell_type": "markdown",
   "metadata": {},
   "source": [
    "# Lab 02 : Variational AutoEncoders (VAE) for MNIST Images -- solution\n"
   ]
  },
  {
   "cell_type": "code",
   "execution_count": 1,
   "metadata": {},
   "outputs": [],
   "source": [
    "# For Google Colaboratory\n",
    "import sys, os\n",
    "if 'google.colab' in sys.modules:\n",
    "    # mount google drive\n",
    "    from google.colab import drive\n",
    "    drive.mount('/content/gdrive')\n",
    "    path_to_file = '/content/gdrive/My Drive/CS5242_2025_codes/labs_lecture08/lab02_vae_image'\n",
    "    print(path_to_file)\n",
    "    # move to Google Drive directory\n",
    "    os.chdir(path_to_file)\n",
    "    !pwd"
   ]
  },
  {
   "cell_type": "code",
   "execution_count": 1,
   "metadata": {},
   "outputs": [
    {
     "name": "stdout",
     "output_type": "stream",
     "text": [
      "2.2.2\n",
      "NVIDIA RTX A5000\n",
      "cuda:0\n"
     ]
    }
   ],
   "source": [
    "import torch\n",
    "import torch.nn as nn\n",
    "import torch.optim as optim\n",
    "import utils\n",
    "import time\n",
    "\n",
    "# Libraries\n",
    "import matplotlib.pyplot as plt\n",
    "import logging\n",
    "logging.getLogger().setLevel(logging.CRITICAL) # remove warnings\n",
    "\n",
    "# PyTorch version and GPU\n",
    "print(torch.__version__)\n",
    "if torch.cuda.is_available():\n",
    "    print(torch.cuda.get_device_name(0))\n",
    "    device= torch.device(\"cuda:0\") # use GPU\n",
    "else:\n",
    "    device= torch.device(\"cpu\")\n",
    "print(device)\n"
   ]
  },
  {
   "cell_type": "markdown",
   "metadata": {},
   "source": [
    "### MNIST dataset "
   ]
  },
  {
   "cell_type": "code",
   "execution_count": 2,
   "metadata": {},
   "outputs": [
    {
     "name": "stdout",
     "output_type": "stream",
     "text": [
      "torch.Size([60000, 28, 28])\n"
     ]
    }
   ],
   "source": [
    "from utils import check_mnist_dataset_exists\n",
    "data_path=check_mnist_dataset_exists()\n",
    "\n",
    "train_data=torch.load(data_path+'mnist/train_data.pt')\n",
    "train_label=torch.load(data_path+'mnist/train_label.pt')\n",
    "print(train_data.size())"
   ]
  },
  {
   "cell_type": "markdown",
   "metadata": {},
   "source": [
    "### VAE with Transformers\n",
    "\n",
    "The VAE encoder is designed as follows:\n",
    "* It begins with a convolutional layer that reduces the input image size from 1 x n x n (grayscale) to d x n/2 x n/2, where d is the hidden dimension. \n",
    "* A second convolutional layer further downsamples the feature map from d x n/2 x n/2 to d x n/4 x n/4.\n",
    "* This is followed by a linear layer that flattens the output to a vector of size d.\n",
    "* Two additional linear layers are used to produce dz-dimensional vectors for the mean and variance of the Gaussian distribution. \n",
    "* 2D batch normalization layer and layer normalization are applied before ReLU activation function. \n",
    "* The final output of the encoder is a latent vector z, which is sampled from the learned Gaussian distribution.\n",
    "\n",
    "The VAE decoder reconstructs the image from the latent representation using a symmetric process:\n",
    "* It starts with two linear layers that map the latent vector z to a feature map of size d x n/4 x n/4. \n",
    "* The decoder then applies two transposed convolutional layers to upsample the feature map from d x n/4 x n/4 to d x n/2 x n/2 and finally to the original image size of 1 x n x n. \n",
    "* The reconstructed image, x_hat, is obtained by applying a sigmoid activation function, ensuring the pixel values are constrained to the range [0,1].\n",
    "\n",
    "\n",
    "\n",
    "Hints: You may use PyTorch modules `nn.Conv2d`, `nn.ConvTranspose2d`, `nn.BatchNorm2d`, `nn.LayerNorm`, `torch.randn`, and `torch.sigmoid`.\n"
   ]
  },
  {
   "cell_type": "code",
   "execution_count": 3,
   "metadata": {},
   "outputs": [],
   "source": [
    "# Global constants\n",
    "n = train_data.size(1) # n : nb of pixels along each spatial dimension\n",
    "dz = 36 # dz : latent dimension\n",
    "d = 256 # d : hidden dimension\n",
    "b = 200 # b : batch size\n"
   ]
  },
  {
   "cell_type": "code",
   "execution_count": 4,
   "metadata": {},
   "outputs": [
    {
     "name": "stdout",
     "output_type": "stream",
     "text": [
      "VAE(\n",
      "  (conv1_enc): Conv2d(1, 256, kernel_size=(4, 4), stride=(2, 2), padding=(1, 1))\n",
      "  (bn1_enc): BatchNorm2d(256, eps=1e-05, momentum=0.1, affine=True, track_running_stats=True)\n",
      "  (conv2_enc): Conv2d(256, 256, kernel_size=(4, 4), stride=(2, 2), padding=(1, 1))\n",
      "  (bn2_enc): BatchNorm2d(256, eps=1e-05, momentum=0.1, affine=True, track_running_stats=True)\n",
      "  (linear_q): Linear(in_features=12544, out_features=256, bias=True)\n",
      "  (ln): LayerNorm((256,), eps=1e-05, elementwise_affine=True)\n",
      "  (linear_q_mu): Linear(in_features=256, out_features=36, bias=True)\n",
      "  (linear_q_logvar): Linear(in_features=256, out_features=36, bias=True)\n",
      "  (linear1_dec): Linear(in_features=36, out_features=256, bias=True)\n",
      "  (ln_dec): LayerNorm((256,), eps=1e-05, elementwise_affine=True)\n",
      "  (linear2_dec): Linear(in_features=256, out_features=12544, bias=True)\n",
      "  (conv1_dec): ConvTranspose2d(256, 256, kernel_size=(4, 4), stride=(2, 2), padding=(1, 1))\n",
      "  (bn1_dec): BatchNorm2d(256, eps=1e-05, momentum=0.1, affine=True, track_running_stats=True)\n",
      "  (conv2_dec): ConvTranspose2d(256, 1, kernel_size=(4, 4), stride=(2, 2), padding=(1, 1))\n",
      ")\n",
      "There are 8571977 (8.57 million) parameters in this neural network\n",
      "torch.Size([200, 28, 28])\n",
      "torch.Size([200, 28, 28])\n"
     ]
    }
   ],
   "source": [
    "# Define  VAE architecture\n",
    "class VAE(nn.Module):\n",
    "    \n",
    "    def __init__(self):\n",
    "        super(VAE, self).__init__()\n",
    "        \n",
    "        # Encoder x => z\n",
    "        self.conv1_enc = nn.Conv2d(1, d, kernel_size=4, padding=1, stride=2) #  1 x 28 x 28 --> d x 14 x 14\n",
    "        self.bn1_enc = nn.BatchNorm2d(d)\n",
    "        self.conv2_enc = nn.Conv2d(d, d, kernel_size=4, padding=1, stride=2) #  d x 14 x 14 --> d x 7 x 7\n",
    "        self.bn2_enc = nn.BatchNorm2d(d)\n",
    "        self.linear_q = nn.Linear(d*(n//4)**2, d)\n",
    "        self.ln = nn.LayerNorm(d)\n",
    "        self.linear_q_mu     = nn.Linear(d, dz)\n",
    "        self.linear_q_logvar = nn.Linear(d, dz)\n",
    "\n",
    "        # Decoder z => x\n",
    "        self.linear1_dec = nn.Linear(dz, d)\n",
    "        self.ln_dec = nn.LayerNorm(d)\n",
    "        self.linear2_dec = nn.Linear(d, d*(n//4)**2)\n",
    "        self.conv1_dec = nn.ConvTranspose2d(d, d, kernel_size=4, padding=1, stride=2) #  d x 7 x 7 --> d x 14 x 14\n",
    "        self.bn1_dec = nn.BatchNorm2d(d)\n",
    "        self.conv2_dec = nn.ConvTranspose2d(d, 1, kernel_size=4, padding=1, stride=2) #  d x 14 x 14 --> 1 x 28 x 28\n",
    "        \n",
    "    def forward(self, x, train=True): \n",
    "        \n",
    "        if train:\n",
    "            # Encoder x => z\n",
    "            h = x.unsqueeze(1) # [b, 1, n, n]\n",
    "            h = self.conv1_enc(h) # [b, d, n/2, n/2]\n",
    "            h = self.bn1_enc(h) # [b, d, n/2, n/2]\n",
    "            h = torch.relu(h)\n",
    "            h = self.conv2_enc(h) # [b, d, n/4, n/4]  \n",
    "            h = self.bn2_enc(h) # [b, d, n/4, n/4]  \n",
    "            h = torch.relu(h) \n",
    "            h = h.view(x.size(0),-1) # [b, d*(n/4)**2]\n",
    "            h = self.linear_q(h) # [b, d]\n",
    "            h = self.ln(h) # [b, d]\n",
    "            h = torch.relu(h)\n",
    "            q_mu = self.linear_q_mu(h) # [b, dz]\n",
    "            q_logvar = self.linear_q_logvar(h) # [b, dz]\n",
    "            q_std = torch.exp(0.5*q_logvar) # [b, dz]\n",
    "            eps = torch.randn_like(q_std) # [b, dz]\n",
    "            z = q_mu + eps * q_std # [b, dz]\n",
    "        else:\n",
    "            # Sample unit Normal distribution\n",
    "            z = torch.Tensor(x.size(0), dz).normal_(mean=0.0, std=1.0).to(device) # [b, dz]\n",
    "            q_mu, q_logvar = _, _\n",
    "            \n",
    "        # Decoder z => x\n",
    "        h = self.linear1_dec(z) # [b, d]\n",
    "        h = self.ln_dec(h) # [b, d]\n",
    "        h = torch.relu(h)\n",
    "        h = self.linear2_dec(h) # [b, d*(n/4)**2]\n",
    "        h = h.view(h.size(0),d,n//4,n//4) # [b, d, n/4, n/4]\n",
    "        h = self.conv1_dec(h) # [b, d, n/2, n/2]\n",
    "        h = self.bn1_dec(h) # [b, d, n/2, n/2]\n",
    "        h = torch.relu(h)\n",
    "        h = self.conv2_dec(h) # [b, 1, n, n]\n",
    "        x_hat = torch.sigmoid(h.squeeze()) # [b, n, n]\n",
    "        return x_hat, q_mu, q_logvar\n",
    "    \n",
    "# Instantiate the network\n",
    "net = VAE()\n",
    "net = net.to(device)\n",
    "print(net)\n",
    "utils.display_num_param(net) \n",
    "\n",
    "# Test the forward pass, backward pass and gradient update with a single batch\n",
    "init_lr = 0.001\n",
    "optimizer = torch.optim.Adam(net.parameters(), lr=init_lr)\n",
    "idx = torch.LongTensor(b).random_(0,60000)\n",
    "batch_images = train_data[idx,:,:].to(device) # [b, n, n]\n",
    "print(batch_images.size())\n",
    "optimizer.zero_grad()\n",
    "x_hat, q_mu, q_logvar = net(batch_images) # [b, n, n], [b, dz], [b, dz]\n",
    "print(x_hat.size())\n",
    "# loss\n",
    "p_x = batch_images # we assume that images are Bernoulli distribution\n",
    "p_xz = x_hat       # we do not perform Bernoulli sampling\n",
    "loss_data =  nn.BCELoss()(p_xz, p_x)\n",
    "loss_KL = -0.5* torch.mean( 1.0 + q_logvar - q_mu.pow(2.0) - q_logvar.exp() )\n",
    "loss = 10* loss_data + loss_KL\n",
    "loss.backward()\n",
    "optimizer.step()\n"
   ]
  },
  {
   "cell_type": "code",
   "execution_count": 18,
   "metadata": {},
   "outputs": [
    {
     "name": "stdout",
     "output_type": "stream",
     "text": [
      "There are 8571977 (8.57 million) parameters in this neural network\n",
      "epoch= 0 \t time= 0.05067211389541626 min \t lr= 0.0003 \t loss= 0.2956836493810018\n",
      "epoch= 1 \t time= 0.10147157510121664 min \t lr= 0.0003 \t loss= 0.27199327558279035\n",
      "epoch= 2 \t time= 0.15227962334950765 min \t lr= 0.0003 \t loss= 0.2712321339050929\n",
      "epoch= 3 \t time= 0.20300498406092327 min \t lr= 0.0003 \t loss= 0.2708271631598473\n",
      "epoch= 4 \t time= 0.2538684407869975 min \t lr= 0.0003 \t loss= 0.2706839539607366\n",
      "epoch= 5 \t time= 0.3045439600944519 min \t lr= 0.0003 \t loss= 0.27061719199021655\n",
      "epoch= 6 \t time= 0.35505512555440266 min \t lr= 0.0003 \t loss= 0.2703282846013705\n",
      "epoch= 7 \t time= 0.4056348959604899 min \t lr= 0.0003 \t loss= 0.2700070876876513\n",
      "epoch= 8 \t time= 0.45618923107783 min \t lr= 0.0003 \t loss= 0.2695688035090764\n",
      "epoch= 9 \t time= 0.5067049900690714 min \t lr= 0.0003 \t loss= 0.2693850833177567\n",
      "epoch= 10 \t time= 0.5574487368265788 min \t lr= 0.0003 \t loss= 0.2693559155861537\n",
      "epoch= 11 \t time= 0.608211346467336 min \t lr= 0.0003 \t loss= 0.26912384629249575\n",
      "epoch= 12 \t time= 0.6589368542035421 min \t lr= 0.0003 \t loss= 0.2689466781417529\n",
      "epoch= 13 \t time= 0.7096765001614889 min \t lr= 0.0003 \t loss= 0.2688645163178444\n",
      "epoch= 14 \t time= 0.7604066133499146 min \t lr= 0.0003 \t loss= 0.26880628685156505\n",
      "epoch= 15 \t time= 0.811158545811971 min \t lr= 0.0003 \t loss= 0.26883658389250437\n",
      "epoch= 16 \t time= 0.8618863344192504 min \t lr= 0.0003 \t loss= 0.2685957140723864\n",
      "epoch= 17 \t time= 0.9126530369122823 min \t lr= 0.0003 \t loss= 0.26846600194772086\n",
      "epoch= 18 \t time= 0.9634049812952677 min \t lr= 0.0003 \t loss= 0.2685167925556501\n",
      "epoch= 19 \t time= 1.0141509453455606 min \t lr= 0.0003 \t loss= 0.26859679410854975\n",
      "epoch= 20 \t time= 1.064893615245819 min \t lr= 0.0003 \t loss= 0.26843782047430675\n",
      "epoch= 21 \t time= 1.1156880696614584 min \t lr= 0.0003 \t loss= 0.2682119983434677\n",
      "epoch= 22 \t time= 1.1664671818415324 min \t lr= 0.0003 \t loss= 0.26824536502361296\n",
      "epoch= 23 \t time= 1.217217457294464 min \t lr= 0.0003 \t loss= 0.2681582064429919\n",
      "epoch= 24 \t time= 1.267930273214976 min \t lr= 0.0003 \t loss= 0.2681701942284902\n",
      "epoch= 25 \t time= 1.3186544537544251 min \t lr= 0.0003 \t loss= 0.2679527649283409\n",
      "epoch= 26 \t time= 1.369392959276835 min \t lr= 0.0003 \t loss= 0.26803724507490795\n",
      "epoch= 27 \t time= 1.4201426227887473 min \t lr= 0.0003 \t loss= 0.26797685702641805\n",
      "epoch= 28 \t time= 1.4708785613377888 min \t lr= 0.0003 \t loss= 0.2679040053486824\n",
      "epoch= 29 \t time= 1.5216176191965738 min \t lr= 0.0003 \t loss= 0.2679820078611374\n",
      "epoch= 30 \t time= 1.5723717172940572 min \t lr= 0.0003 \t loss= 0.2678005545337995\n",
      "epoch= 31 \t time= 1.6230901956558228 min \t lr= 0.0003 \t loss= 0.26770982225735984\n",
      "epoch= 32 \t time= 1.6738374710083008 min \t lr= 0.0003 \t loss= 0.26769894500573477\n",
      "epoch= 33 \t time= 1.7245694319407145 min \t lr= 0.0003 \t loss= 0.2676617484291395\n",
      "epoch= 34 \t time= 1.7753162225087484 min \t lr= 0.0003 \t loss= 0.2677105008562406\n",
      "epoch= 35 \t time= 1.8260372400283813 min \t lr= 0.0003 \t loss= 0.26769986798365913\n",
      "epoch= 36 \t time= 1.8767618576685587 min \t lr= 0.0003 \t loss= 0.2677182988325755\n",
      "epoch= 37 \t time= 1.927482533454895 min \t lr= 0.0003 \t loss= 0.26751574565966924\n",
      "epoch= 38 \t time= 1.978177547454834 min \t lr= 0.0003 \t loss= 0.26754406015078225\n",
      "epoch= 39 \t time= 2.0289153933525084 min \t lr= 0.0003 \t loss= 0.2674410094817479\n",
      "epoch= 40 \t time= 2.079625078042348 min \t lr= 0.0003 \t loss= 0.2674922808011373\n",
      "epoch= 41 \t time= 2.130356041590373 min \t lr= 0.0003 \t loss= 0.26762327820062637\n",
      "epoch= 42 \t time= 2.1810797890027365 min \t lr= 0.0003 \t loss= 0.26750022341807683\n",
      "epoch= 43 \t time= 2.231815481185913 min \t lr= 0.0003 \t loss= 0.2672179885705312\n",
      "epoch= 44 \t time= 2.2825337211290995 min \t lr= 0.0003 \t loss= 0.2672287917137146\n",
      "epoch= 45 \t time= 2.333259983857473 min \t lr= 0.0003 \t loss= 0.26726338267326355\n",
      "epoch= 46 \t time= 2.38398863474528 min \t lr= 0.0003 \t loss= 0.267163694302241\n",
      "epoch= 47 \t time= 2.4347009936968487 min \t lr= 0.0003 \t loss= 0.26702900727589923\n",
      "epoch= 48 \t time= 2.4854273438453673 min \t lr= 0.0003 \t loss= 0.2668266756335894\n",
      "epoch= 49 \t time= 2.5361462473869323 min \t lr= 0.0003 \t loss= 0.2667652137080828\n"
     ]
    }
   ],
   "source": [
    "# Training loop\n",
    "net = VAE()\n",
    "net = net.to(device)\n",
    "utils.display_num_param(net) \n",
    "\n",
    "# Optimizer\n",
    "lr = 0.0003\n",
    "# lr = 0.001\n",
    "# optimizer = torch.optim.Adam(net.parameters(), lr=lr)\n",
    "optimizer = torch.optim.AdamW(net.parameters(), lr=lr)\n",
    "\n",
    "nb_batch = 50 \n",
    "# nb_batch = 100 \n",
    "b = 200  # Batch size\n",
    "\n",
    "start=time.time()\n",
    "for epoch in range(nb_batch):\n",
    "\n",
    "    running_loss = 0.0\n",
    "    num_batches = 0\n",
    "    \n",
    "    shuffled_indices = torch.randperm(60000)\n",
    "    \n",
    "#     if epoch%10==0 and epoch>=10: \n",
    "#         lr = lr / 1.5\n",
    "#         for param_group in optimizer.param_groups:\n",
    "#             param_group['lr'] = lr  \n",
    "    \n",
    "    for count in range(0,60000,b):\n",
    "        \n",
    "        # FORWARD AND BACKWARD PASS\n",
    "        idx_idximages = shuffled_indices[count : count+b]\n",
    "        batch_images = train_data[idx,:,:].to(device)\n",
    "        optimizer.zero_grad()\n",
    "        x_hat, q_mu, q_logvar = net(batch_images) \n",
    "        # loss\n",
    "        p_x = batch_images # we assume that images are Bernoulli distribution\n",
    "        p_xz = x_hat       # we do not perform Bernoulli sampling\n",
    "        loss_data =  nn.BCELoss()(p_xz, p_x)\n",
    "        loss_KL = -0.5* torch.mean( 1.0 + q_logvar - q_mu.pow(2.0) - q_logvar.exp() )\n",
    "        loss = loss_data + loss_KL \n",
    "        loss.backward()\n",
    "        optimizer.step()\n",
    "\n",
    "        # COMPUTE STATS\n",
    "        running_loss += loss.detach().item()\n",
    "        num_batches += 1        \n",
    "    \n",
    "    # AVERAGE STATS THEN DISPLAY\n",
    "    total_loss = running_loss/num_batches\n",
    "    elapsed = (time.time()-start)/60\n",
    "    print('epoch=',epoch, '\\t time=', elapsed,'min', '\\t lr=', lr  ,'\\t loss=', total_loss )\n",
    "    "
   ]
  },
  {
   "cell_type": "code",
   "execution_count": 19,
   "metadata": {},
   "outputs": [
    {
     "name": "stdout",
     "output_type": "stream",
     "text": [
      "x_hat torch.Size([16, 28, 28])\n"
     ]
    },
    {
     "data": {
      "image/png": "[encoded data removed]",
      "text/plain": [
       "<Figure size 1000x1000 with 16 Axes>"
      ]
     },
     "metadata": {},
     "output_type": "display_data"
    }
   ],
   "source": [
    "# Generated images with VAE\n",
    "\n",
    "net.eval()\n",
    "with torch.no_grad():\n",
    "    num_generated_images = 16\n",
    "    x = torch.zeros(num_generated_images, n**2).to(device)\n",
    "    x_hat = net(x, False)[0]\n",
    "    print('x_hat',x_hat.size())\n",
    "    x_hat = x_hat.squeeze().detach().to('cpu')\n",
    "\n",
    "figure, axis = plt.subplots(4, 4)\n",
    "figure.set_size_inches(10,10)\n",
    "\n",
    "i,j,cpt=0,0,0; axis[i,j].imshow(x_hat[cpt,:,:], cmap='gray'); axis[i,j].set_title(\"Generated w/ VAE\"); axis[i,j].axis('off')\n",
    "i,j,cpt=1,0,1; axis[i,j].imshow(x_hat[cpt,:,:], cmap='gray'); axis[i,j].set_title(\"Generated w/ VAE\"); axis[i,j].axis('off')\n",
    "i,j,cpt=2,0,2; axis[i,j].imshow(x_hat[cpt,:,:], cmap='gray'); axis[i,j].set_title(\"Generated w/ VAE\"); axis[i,j].axis('off')\n",
    "i,j,cpt=3,0,3; axis[i,j].imshow(x_hat[cpt,:,:], cmap='gray'); axis[i,j].set_title(\"Generated w/ VAE\"); axis[i,j].axis('off')\n",
    "i,j,cpt=0,1+0,4; axis[i,j].imshow(x_hat[cpt,:,:], cmap='gray'); axis[i,j].set_title(\"Generated w/ VAE\"); axis[i,j].axis('off')\n",
    "i,j,cpt=1,1+0,5; axis[i,j].imshow(x_hat[cpt,:,:], cmap='gray'); axis[i,j].set_title(\"Generated w/ VAE\"); axis[i,j].axis('off')\n",
    "i,j,cpt=2,1+0,6; axis[i,j].imshow(x_hat[cpt,:,:], cmap='gray'); axis[i,j].set_title(\"Generated w/ VAE\"); axis[i,j].axis('off')\n",
    "i,j,cpt=3,1+0,7; axis[i,j].imshow(x_hat[cpt,:,:], cmap='gray'); axis[i,j].set_title(\"Generated w/ VAE\"); axis[i,j].axis('off')\n",
    "i,j,cpt=0,2+0,8; axis[i,j].imshow(x_hat[cpt,:,:], cmap='gray'); axis[i,j].set_title(\"Generated w/ VAE\"); axis[i,j].axis('off')\n",
    "i,j,cpt=1,2+0,9; axis[i,j].imshow(x_hat[cpt,:,:], cmap='gray'); axis[i,j].set_title(\"Generated w/ VAE\"); axis[i,j].axis('off')\n",
    "i,j,cpt=2,2+0,10; axis[i,j].imshow(x_hat[cpt,:,:], cmap='gray'); axis[i,j].set_title(\"Generated w/ VAE\"); axis[i,j].axis('off')\n",
    "i,j,cpt=3,2+0,11; axis[i,j].imshow(x_hat[cpt,:,:], cmap='gray'); axis[i,j].set_title(\"Generated w/ VAE\"); axis[i,j].axis('off')\n",
    "i,j,cpt=0,3+0,12; axis[i,j].imshow(x_hat[cpt,:,:], cmap='gray'); axis[i,j].set_title(\"Generated w/ VAE\"); axis[i,j].axis('off')\n",
    "i,j,cpt=1,3+0,13; axis[i,j].imshow(x_hat[cpt,:,:], cmap='gray'); axis[i,j].set_title(\"Generated w/ VAE\"); axis[i,j].axis('off')\n",
    "i,j,cpt=2,3+0,14; axis[i,j].imshow(x_hat[cpt,:,:], cmap='gray'); axis[i,j].set_title(\"Generated w/ VAE\"); axis[i,j].axis('off')\n",
    "i,j,cpt=3,3+0,15; axis[i,j].imshow(x_hat[cpt,:,:], cmap='gray'); axis[i,j].set_title(\"Generated w/ VAE\"); axis[i,j].axis('off')\n",
    "\n",
    "plt.show()\n"
   ]
  },
  {
   "cell_type": "code",
   "execution_count": null,
   "metadata": {},
   "outputs": [],
   "source": []
  },
  {
   "cell_type": "code",
   "execution_count": null,
   "metadata": {},
   "outputs": [],
   "source": []
  }
 ],
 "metadata": {
  "kernelspec": {
   "display_name": "Python 3 (ipykernel)",
   "language": "python",
   "name": "python3"
  },
  "language_info": {
   "codemirror_mode": {
    "name": "ipython",
    "version": 3
   },
   "file_extension": ".py",
   "mimetype": "text/x-python",
   "name": "python",
   "nbconvert_exporter": "python",
   "pygments_lexer": "ipython3",
   "version": "3.8.20"
  }
 },
 "nbformat": 4,
 "nbformat_minor": 4
}
